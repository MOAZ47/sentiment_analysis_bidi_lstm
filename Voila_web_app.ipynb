{
 "cells": [
  {
   "cell_type": "code",
   "execution_count": 1,
   "metadata": {},
   "outputs": [],
   "source": [
    "import numpy as np\n",
    "import pickle\n",
    "from ipywidgets import widgets\n",
    "\n",
    "import tensorflow as tf\n",
    "from tensorflow.keras.models import load_model\n",
    "from tensorflow.keras.preprocessing.text import Tokenizer\n",
    "from tensorflow.keras.preprocessing.sequence import pad_sequences"
   ]
  },
  {
   "cell_type": "code",
   "execution_count": 2,
   "metadata": {},
   "outputs": [],
   "source": [
    "# load model\n",
    "model = load_model('sentiment_analysis.h5')"
   ]
  },
  {
   "cell_type": "code",
   "execution_count": 3,
   "metadata": {},
   "outputs": [],
   "source": [
    "# loading\n",
    "with open('tokenizer.pickle', 'rb') as handle:\n",
    "    tokenizer = pickle.load(handle)"
   ]
  },
  {
   "cell_type": "markdown",
   "metadata": {},
   "source": [
    "<h1 style ='border-bottom: 2px solid black'><center>Sentiment Analysis</center></h1>"
   ]
  },
  {
   "cell_type": "markdown",
   "metadata": {},
   "source": [
    "<p>\n",
    "               This web app based on deep learning is created with the intention to detect the sentiment of the text input provided by you. To find the predicted sentiment associated with your text, enter it in the empty box given below.\n",
    "            </p>"
   ]
  },
  {
   "cell_type": "code",
   "execution_count": 100,
   "metadata": {},
   "outputs": [],
   "source": [
    "greet = widgets.Label('Enter your text')\n",
    "\n",
    "out = widgets.Output()\n",
    "\n",
    "textarea = widgets.Textarea(continuous_update =False)\n",
    "\n",
    "button = widgets.Button(description='Predict')\n",
    "\n",
    "pred = widgets.Label()"
   ]
  },
  {
   "cell_type": "code",
   "execution_count": 109,
   "metadata": {},
   "outputs": [],
   "source": [
    "def predict_review(new_sentences, model=model, max_length=100, show_padded_sequence=True ):\n",
    "    \n",
    "    pred.value = ''\n",
    "    \n",
    "    out.clear_output()\n",
    "    \n",
    "    result_dict = dict()\n",
    "    result_dict['Input'] = new_sentences\n",
    "    \n",
    "    if isinstance(new_sentences, str):\n",
    "        new_sentences = [' '.join(new_sentences.split(\" \"))]\n",
    "    \n",
    "    trunc_type='post' \n",
    "    padding_type='post'\n",
    "\n",
    "    # text to sequence\n",
    "    new_text_sequences = tokenizer.texts_to_sequences(new_sentences)\n",
    "\n",
    "    # Pad all sequences for the new reviews\n",
    "    new_reviews_padded = pad_sequences(new_text_sequences, maxlen=max_length, \n",
    "                                     padding=padding_type, truncating=trunc_type)             \n",
    "\n",
    "    classes = model.predict(new_reviews_padded)\n",
    "\n",
    "    # The closer the class is to 1, the more positive the review is\n",
    "    for x in range(len(new_sentences)):\n",
    "        \n",
    "        # Print its predicted class\n",
    "        if classes[x] > 0.5:\n",
    "            result_dict['Result'] = \"Positive\"\n",
    "            #print(\"Positive\")\n",
    "        else:\n",
    "            result_dict['Result'] = \"Negative\"\n",
    "            #print(\"Negative\")\n",
    "        result_dict['Probability'] = classes[x]\n",
    "    \n",
    "    pred.value = result_dict['Result']\n",
    "    \n",
    "    return f'Prediction: {pred.value}'\n",
    "    #return result_dict"
   ]
  },
  {
   "cell_type": "code",
   "execution_count": 110,
   "metadata": {},
   "outputs": [
    {
     "data": {
      "application/vnd.jupyter.widget-view+json": {
       "model_id": "ec98cda838db43de8c1f806eb14304ae",
       "version_major": 2,
       "version_minor": 0
      },
      "text/plain": [
       "Label(value='Enter your text')"
      ]
     },
     "metadata": {},
     "output_type": "display_data"
    },
    {
     "data": {
      "application/vnd.jupyter.widget-view+json": {
       "model_id": "6c1bce97cee3439680270ad463e5c054",
       "version_major": 2,
       "version_minor": 0
      },
      "text/plain": [
       "Textarea(value='i am doing good', continuous_update=False)"
      ]
     },
     "metadata": {},
     "output_type": "display_data"
    },
    {
     "data": {
      "application/vnd.jupyter.widget-view+json": {
       "model_id": "b954a9ee37b546e5b8691432df38ef59",
       "version_major": 2,
       "version_minor": 0
      },
      "text/plain": [
       "Button(description='Predict', style=ButtonStyle())"
      ]
     },
     "metadata": {},
     "output_type": "display_data"
    },
    {
     "data": {
      "application/vnd.jupyter.widget-view+json": {
       "model_id": "29a9ac2d8d794d74a848310c1cdb5cac",
       "version_major": 2,
       "version_minor": 0
      },
      "text/plain": [
       "Output(outputs=({'output_type': 'stream', 'text': \"('Positive', 0.92737174)\\n\", 'name': 'stdout'},))"
      ]
     },
     "metadata": {},
     "output_type": "display_data"
    }
   ],
   "source": [
    "display(greet, textarea,  button, out)\n",
    "\n",
    "\n",
    "#button.on_click(predict_review(textarea.value))\n",
    "def on_button_clicked(b):\n",
    "    with out:\n",
    "        print(\"Button clicked.\")\n",
    "        print(predict_review(textarea.value))\n",
    "\n",
    "button.on_click(on_button_clicked)\n",
    "\n",
    "out.clear_output()"
   ]
  },
  {
   "cell_type": "code",
   "execution_count": null,
   "metadata": {},
   "outputs": [],
   "source": []
  }
 ],
 "metadata": {
  "kernelspec": {
   "display_name": "Python 3",
   "language": "python",
   "name": "python3"
  },
  "language_info": {
   "codemirror_mode": {
    "name": "ipython",
    "version": 3
   },
   "file_extension": ".py",
   "mimetype": "text/x-python",
   "name": "python",
   "nbconvert_exporter": "python",
   "pygments_lexer": "ipython3",
   "version": "3.8.3"
  }
 },
 "nbformat": 4,
 "nbformat_minor": 4
}
