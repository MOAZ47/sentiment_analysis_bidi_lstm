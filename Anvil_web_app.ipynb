{
 "cells": [
  {
   "cell_type": "code",
   "execution_count": 2,
   "metadata": {},
   "outputs": [],
   "source": [
    "import numpy as np\n",
    "import pickle\n",
    "from ipywidgets import widgets\n",
    "import anvil.server\n",
    "\n",
    "import tensorflow as tf\n",
    "from tensorflow.keras.models import load_model\n",
    "from tensorflow.keras.preprocessing.text import Tokenizer\n",
    "from tensorflow.keras.preprocessing.sequence import pad_sequences"
   ]
  },
  {
   "cell_type": "code",
   "execution_count": 10,
   "metadata": {},
   "outputs": [],
   "source": [
    "# load model\n",
    "model_sent = load_model('sentiment_analysis.h5')"
   ]
  },
  {
   "cell_type": "code",
   "execution_count": 4,
   "metadata": {},
   "outputs": [],
   "source": [
    "# loading\n",
    "with open('tokenizer.pickle', 'rb') as handle:\n",
    "    tokenizer = pickle.load(handle)"
   ]
  },
  {
   "cell_type": "code",
   "execution_count": 6,
   "metadata": {},
   "outputs": [
    {
     "name": "stdout",
     "output_type": "stream",
     "text": [
      "Connecting to wss://anvil.works/uplink\n",
      "Anvil websocket open\n",
      "Connected to \"Default environment (dev)\" as SERVER\n"
     ]
    }
   ],
   "source": [
    "anvil.server.connect(\"UFYDTFT7QXDA3TXGYCEH6TKZ-IWRSVDXUFFPCWVFX\")"
   ]
  },
  {
   "cell_type": "code",
   "execution_count": 11,
   "metadata": {},
   "outputs": [],
   "source": [
    "@anvil.server.callable\n",
    "def predict_review(new_sentences, model=model_sent, max_length=100, show_padded_sequence=False):\n",
    "    \n",
    "    result_dict = dict()\n",
    "    result_dict['Input'] = new_sentences\n",
    "    \n",
    "    if isinstance(new_sentences, str):\n",
    "        new_sentences = [' '.join(new_sentences.split(\" \"))]\n",
    "    \n",
    "    trunc_type='post' \n",
    "    padding_type='post'\n",
    "\n",
    "    # text to sequence\n",
    "    new_text_sequences = tokenizer.texts_to_sequences(new_sentences)\n",
    "\n",
    "    # Pad all sequences for the new reviews\n",
    "    new_reviews_padded = pad_sequences(new_text_sequences, maxlen=max_length, \n",
    "                                     padding=padding_type, truncating=trunc_type)             \n",
    "\n",
    "    classes = model.predict(new_reviews_padded)\n",
    "\n",
    "    # The closer the class is to 1, the more positive the review is\n",
    "    for x in range(len(new_sentences)):\n",
    "        \n",
    "        # Print its predicted class\n",
    "        if classes[x] > 0.5:\n",
    "            result_dict['Result'] = \"Positive\"\n",
    "            #print(\"Positive\")\n",
    "        else:\n",
    "            result_dict['Result'] = \"Negative\"\n",
    "            #print(\"Negative\")\n",
    "        result_dict['Probability'] = classes[x]\n",
    "    \n",
    "    return result_dict['Input'], result_dict['Result'], result_dict['Probability']"
   ]
  },
  {
   "cell_type": "code",
   "execution_count": null,
   "metadata": {},
   "outputs": [],
   "source": []
  }
 ],
 "metadata": {
  "kernelspec": {
   "display_name": "Python 3",
   "language": "python",
   "name": "python3"
  },
  "language_info": {
   "codemirror_mode": {
    "name": "ipython",
    "version": 3
   },
   "file_extension": ".py",
   "mimetype": "text/x-python",
   "name": "python",
   "nbconvert_exporter": "python",
   "pygments_lexer": "ipython3",
   "version": "3.8.3"
  }
 },
 "nbformat": 4,
 "nbformat_minor": 4
}
